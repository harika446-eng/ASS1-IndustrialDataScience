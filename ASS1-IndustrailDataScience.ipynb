{
 "cells": [
  {
   "cell_type": "code",
   "execution_count": 10,
   "id": "f8af40ea",
   "metadata": {},
   "outputs": [],
   "source": [
    "import numpy as np\n",
    "import pandas as pd\n",
    "import matplotlib.pyplot as plt"
   ]
  },
  {
   "cell_type": "code",
   "execution_count": 20,
   "id": "bbb962aa",
   "metadata": {},
   "outputs": [
    {
     "name": "stdout",
     "output_type": "stream",
     "text": [
      "     Pregnancies  Glucose  BloodPressure  SkinThickness  Insulin   BMI  \\\n",
      "0              6      148             72             35        0  33.6   \n",
      "1              1       85             66             29        0  26.6   \n",
      "2              8      183             64              0        0  23.3   \n",
      "3              1       89             66             23       94  28.1   \n",
      "4              0      137             40             35      168  43.1   \n",
      "..           ...      ...            ...            ...      ...   ...   \n",
      "763           10      101             76             48      180  32.9   \n",
      "764            2      122             70             27        0  36.8   \n",
      "765            5      121             72             23      112  26.2   \n",
      "766            1      126             60              0        0  30.1   \n",
      "767            1       93             70             31        0  30.4   \n",
      "\n",
      "     DiabetesPedigreeFunction  Age  Outcome  \n",
      "0                       0.627   50        1  \n",
      "1                       0.351   31        0  \n",
      "2                       0.672   32        1  \n",
      "3                       0.167   21        0  \n",
      "4                       2.288   33        1  \n",
      "..                        ...  ...      ...  \n",
      "763                     0.171   63        0  \n",
      "764                     0.340   27        0  \n",
      "765                     0.245   30        0  \n",
      "766                     0.349   47        1  \n",
      "767                     0.315   23        0  \n",
      "\n",
      "[768 rows x 9 columns]\n"
     ]
    }
   ],
   "source": [
    "df=pd.read_csv(r'C:\\Users\\USER\\Downloads\\diabetes (1).csv')\n",
    "print(df)"
   ]
  },
  {
   "cell_type": "code",
   "execution_count": 24,
   "id": "8db8728c",
   "metadata": {},
   "outputs": [
    {
     "name": "stdout",
     "output_type": "stream",
     "text": [
      "     Pregnancies  Glucose  BloodPressure  SkinThickness  Insulin   BMI  \\\n",
      "115            4      146             92              0        0  31.2   \n",
      "123            5      132             80              0        0  26.8   \n",
      "129            0      105             84              0        0  27.9   \n",
      "148            5      147             78              0        0  33.7   \n",
      "221            2      158             90              0        0  31.6   \n",
      "223            7      142             60             33      190  28.8   \n",
      "263            3      142             80             15        0  32.4   \n",
      "294            0      161             50              0        0  21.9   \n",
      "361            5      158             70              0        0  29.8   \n",
      "362            5      103            108             37        0  39.2   \n",
      "363            4      146             78              0        0  38.5   \n",
      "453            2      119              0              0        0  19.6   \n",
      "456            1      135             54              0        0  26.7   \n",
      "459            9      134             74             33       60  25.9   \n",
      "479            4      132             86             31        0  28.0   \n",
      "489            8      194             80              0        0  26.1   \n",
      "495            6      166             74              0        0  26.6   \n",
      "509            8      120             78              0        0  25.0   \n",
      "537            0       57             60              0        0  21.7   \n",
      "552            6      114             88              0        0  27.8   \n",
      "579            2      197             70             99        0  34.7   \n",
      "582           12      121             78             17        0  26.5   \n",
      "666            4      145             82             18        0  32.5   \n",
      "674            8       91             82              0        0  35.6   \n",
      "684            5      136             82              0        0   0.0   \n",
      "759            6      190             92              0        0  35.5   \n",
      "763           10      101             76             48      180  32.9   \n",
      "\n",
      "     DiabetesPedigreeFunction  Age  Outcome  \n",
      "115                     0.539   61        1  \n",
      "123                     0.186   69        0  \n",
      "129                     0.741   62        1  \n",
      "148                     0.218   65        0  \n",
      "221                     0.805   66        1  \n",
      "223                     0.687   61        0  \n",
      "263                     0.200   63        0  \n",
      "294                     0.254   65        0  \n",
      "361                     0.207   63        0  \n",
      "362                     0.305   65        0  \n",
      "363                     0.520   67        1  \n",
      "453                     0.832   72        0  \n",
      "456                     0.687   62        0  \n",
      "459                     0.460   81        0  \n",
      "479                     0.419   63        0  \n",
      "489                     0.551   67        0  \n",
      "495                     0.304   66        0  \n",
      "509                     0.409   64        0  \n",
      "537                     0.735   67        0  \n",
      "552                     0.247   66        0  \n",
      "579                     0.575   62        1  \n",
      "582                     0.259   62        0  \n",
      "666                     0.235   70        1  \n",
      "674                     0.587   68        0  \n",
      "684                     0.640   69        0  \n",
      "759                     0.278   66        1  \n",
      "763                     0.171   63        0  \n"
     ]
    }
   ],
   "source": [
    "filtered_df = df[df['Age']>60]\n",
    "print(filtered_df)"
   ]
  },
  {
   "cell_type": "code",
   "execution_count": 26,
   "id": "a8bf2fed",
   "metadata": {},
   "outputs": [
    {
     "name": "stdout",
     "output_type": "stream",
     "text": [
      "       Pregnancies     Glucose  BloodPressure  SkinThickness     Insulin  \\\n",
      "count    27.000000   27.000000      27.000000      27.000000   27.000000   \n",
      "mean      4.851852  136.740741      75.037037      12.259259   15.925926   \n",
      "std       3.097191   31.491870      19.330091      22.696310   50.096772   \n",
      "min       0.000000   57.000000       0.000000       0.000000    0.000000   \n",
      "25%       2.500000  119.500000      72.000000       0.000000    0.000000   \n",
      "50%       5.000000  136.000000      78.000000       0.000000    0.000000   \n",
      "75%       6.500000  152.500000      83.000000      17.500000    0.000000   \n",
      "max      12.000000  197.000000     108.000000      99.000000  190.000000   \n",
      "\n",
      "             BMI  DiabetesPedigreeFunction        Age    Outcome  \n",
      "count  27.000000                 27.000000  27.000000  27.000000  \n",
      "mean   28.403704                  0.446333  65.740741   0.259259  \n",
      "std     7.517287                  0.215126   4.193333   0.446576  \n",
      "min     0.000000                  0.171000  61.000000   0.000000  \n",
      "25%    26.300000                  0.250500  63.000000   0.000000  \n",
      "50%    28.000000                  0.419000  65.000000   0.000000  \n",
      "75%    32.700000                  0.613500  67.000000   0.500000  \n",
      "max    39.200000                  0.832000  81.000000   1.000000  \n"
     ]
    }
   ],
   "source": [
    "statistics=filtered_df.describe()\n",
    "print(statistics)\n",
    "\n"
   ]
  },
  {
   "cell_type": "code",
   "execution_count": 28,
   "id": "4769f5e0",
   "metadata": {},
   "outputs": [
    {
     "name": "stdout",
     "output_type": "stream",
     "text": [
      "     Pregnancies  Glucose  BloodPressure  SkinThickness  Insulin   BMI  \\\n",
      "115            4      146             92              0        0  31.2   \n",
      "223            7      142             60             33      190  28.8   \n",
      "582           12      121             78             17        0  26.5   \n",
      "129            0      105             84              0        0  27.9   \n",
      "579            2      197             70             99        0  34.7   \n",
      "456            1      135             54              0        0  26.7   \n",
      "479            4      132             86             31        0  28.0   \n",
      "361            5      158             70              0        0  29.8   \n",
      "763           10      101             76             48      180  32.9   \n",
      "263            3      142             80             15        0  32.4   \n",
      "509            8      120             78              0        0  25.0   \n",
      "148            5      147             78              0        0  33.7   \n",
      "294            0      161             50              0        0  21.9   \n",
      "362            5      103            108             37        0  39.2   \n",
      "221            2      158             90              0        0  31.6   \n",
      "495            6      166             74              0        0  26.6   \n",
      "552            6      114             88              0        0  27.8   \n",
      "759            6      190             92              0        0  35.5   \n",
      "489            8      194             80              0        0  26.1   \n",
      "537            0       57             60              0        0  21.7   \n",
      "363            4      146             78              0        0  38.5   \n",
      "674            8       91             82              0        0  35.6   \n",
      "123            5      132             80              0        0  26.8   \n",
      "684            5      136             82              0        0   0.0   \n",
      "666            4      145             82             18        0  32.5   \n",
      "453            2      119              0              0        0  19.6   \n",
      "459            9      134             74             33       60  25.9   \n",
      "\n",
      "     DiabetesPedigreeFunction  Age  Outcome  \n",
      "115                     0.539   61        1  \n",
      "223                     0.687   61        0  \n",
      "582                     0.259   62        0  \n",
      "129                     0.741   62        1  \n",
      "579                     0.575   62        1  \n",
      "456                     0.687   62        0  \n",
      "479                     0.419   63        0  \n",
      "361                     0.207   63        0  \n",
      "763                     0.171   63        0  \n",
      "263                     0.200   63        0  \n",
      "509                     0.409   64        0  \n",
      "148                     0.218   65        0  \n",
      "294                     0.254   65        0  \n",
      "362                     0.305   65        0  \n",
      "221                     0.805   66        1  \n",
      "495                     0.304   66        0  \n",
      "552                     0.247   66        0  \n",
      "759                     0.278   66        1  \n",
      "489                     0.551   67        0  \n",
      "537                     0.735   67        0  \n",
      "363                     0.520   67        1  \n",
      "674                     0.587   68        0  \n",
      "123                     0.186   69        0  \n",
      "684                     0.640   69        0  \n",
      "666                     0.235   70        1  \n",
      "453                     0.832   72        0  \n",
      "459                     0.460   81        0  \n"
     ]
    }
   ],
   "source": [
    "sorted_filtered_df = filtered_df.sort_values('Age')\n",
    "print(sorted_filtered_df)"
   ]
  },
  {
   "cell_type": "code",
   "execution_count": 32,
   "id": "14ace60c",
   "metadata": {},
   "outputs": [
    {
     "name": "stdout",
     "output_type": "stream",
     "text": [
      "     Pregnancies     Glucose  BloodPressure  SkinThickness  Insulin  \\\n",
      "Age                                                                   \n",
      "61      5.500000  144.000000      76.000000      16.500000     95.0   \n",
      "62      3.750000  139.500000      71.500000      29.000000      0.0   \n",
      "63      5.500000  133.250000      78.000000      23.500000     45.0   \n",
      "64      8.000000  120.000000      78.000000       0.000000      0.0   \n",
      "65      3.333333  137.000000      78.666667      12.333333      0.0   \n",
      "66      5.000000  157.000000      86.000000       0.000000      0.0   \n",
      "67      4.000000  132.333333      72.666667       0.000000      0.0   \n",
      "68      8.000000   91.000000      82.000000       0.000000      0.0   \n",
      "69      5.000000  134.000000      81.000000       0.000000      0.0   \n",
      "70      4.000000  145.000000      82.000000      18.000000      0.0   \n",
      "72      2.000000  119.000000       0.000000       0.000000      0.0   \n",
      "81      9.000000  134.000000      74.000000      33.000000     60.0   \n",
      "\n",
      "           BMI  DiabetesPedigreeFunction   Outcome  \n",
      "Age                                                 \n",
      "61   30.000000                   0.61300  0.500000  \n",
      "62   28.950000                   0.56550  0.500000  \n",
      "63   30.775000                   0.24925  0.000000  \n",
      "64   25.000000                   0.40900  0.000000  \n",
      "65   31.600000                   0.25900  0.000000  \n",
      "66   30.375000                   0.40850  0.500000  \n",
      "67   28.766667                   0.60200  0.333333  \n",
      "68   35.600000                   0.58700  0.000000  \n",
      "69   13.400000                   0.41300  0.000000  \n",
      "70   32.500000                   0.23500  1.000000  \n",
      "72   19.600000                   0.83200  0.000000  \n",
      "81   25.900000                   0.46000  0.000000  \n"
     ]
    }
   ],
   "source": [
    "grouped_filtered_df= filtered_df.groupby('Age').mean()\n",
    "print(grouped_filtered_df)"
   ]
  },
  {
   "cell_type": "code",
   "execution_count": 38,
   "id": "a4289b34",
   "metadata": {},
   "outputs": [],
   "source": [
    "x = ['Glucose', 'BloodPressure', 'SkinThickness', 'Insulin']\n",
    "y = [136.740741,75.037037,12.259259,15.925926]\n"
   ]
  },
  {
   "cell_type": "code",
   "execution_count": 39,
   "id": "372e210b",
   "metadata": {},
   "outputs": [
    {
     "data": {
      "image/png": "[encoded data removed]",
      "text/plain": [
       "<Figure size 640x480 with 1 Axes>"
      ]
     },
     "metadata": {},
     "output_type": "display_data"
    }
   ],
   "source": [
    "plt.bar(x, y)\n",
    "plt.title(\"Bar Plot\")\n",
    "plt.xlabel(\"Categories\")\n",
    "plt.ylabel(\"mean value\")\n",
    "plt.show()"
   ]
  },
  {
   "cell_type": "code",
   "execution_count": null,
   "id": "1e33ab2e",
   "metadata": {},
   "outputs": [],
   "source": []
  }
 ],
 "metadata": {
  "kernelspec": {
   "display_name": "Python 3 (ipykernel)",
   "language": "python",
   "name": "python3"
  },
  "language_info": {
   "codemirror_mode": {
    "name": "ipython",
    "version": 3
   },
   "file_extension": ".py",
   "mimetype": "text/x-python",
   "name": "python",
   "nbconvert_exporter": "python",
   "pygments_lexer": "ipython3",
   "version": "3.10.9"
  }
 },
 "nbformat": 4,
 "nbformat_minor": 5
}
